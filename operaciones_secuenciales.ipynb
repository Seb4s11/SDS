{
  "nbformat": 4,
  "nbformat_minor": 0,
  "metadata": {
    "colab": {
      "provenance": [],
      "authorship_tag": "ABX9TyOFslgkJ3wV2asnIKAhvi/A",
      "include_colab_link": true
    },
    "kernelspec": {
      "name": "python3",
      "display_name": "Python 3"
    },
    "language_info": {
      "name": "python"
    }
  },
  "cells": [
    {
      "cell_type": "markdown",
      "metadata": {
        "id": "view-in-github",
        "colab_type": "text"
      },
      "source": [
        "<a href=\"https://colab.research.google.com/github/Seb4s11/SDS/blob/main/operaciones_secuenciales.ipynb\" target=\"_parent\"><img src=\"https://colab.research.google.com/assets/colab-badge.svg\" alt=\"Open In Colab\"/></a>"
      ]
    },
    {
      "cell_type": "markdown",
      "source": [
        "# Operaciones secuenciales\n",
        "**Primer integrante:**\n",
        "<br> **Nombre:** Sebastián Llorente Funieles\n",
        "<br> **ID:** 000574916\n",
        "<br> **Email:** sebastian.llorente@upb.edu.co\n",
        "\n",
        "<br> **Segundo integrante:**\n",
        "<br> **Nombre:** Juan Sebastián Miranda Almanza\n",
        "<br> **ID:** 000548579\n",
        "<br> **Email:** juan.mirandaa@upb.edu.co\n",
        "\n",
        "<br> **Tercer integrante:**\n",
        "<br> **Nombre:** Sebastián Benítez Burgos\n",
        "<br> **ID:** 000545006\n",
        "<br> **Email:** sebastian.benitez@upb.edu.co\n",
        "\n",
        "<br> **Cuarto integrante:**\n",
        "<br> **Nombre:** Danna Montalvo Hernández.\n",
        "<br> **ID:** 000576375\n",
        "<br> **Email:** danna.montalvo@upb.edu.co\n"
      ],
      "metadata": {
        "id": "Gjh0XINR6woG"
      }
    },
    {
      "cell_type": "markdown",
      "source": [
        "#Venta de un Producto\n",
        "<br> Diseñar un programa que genere una factura de compra para un producto. El programa debe solicitar\n",
        "al usuario:\n",
        "* Nombre del cliente.\n",
        "* Identificación del cliente.\n",
        "* Nombre del producto.\n",
        "* Precio unitario del producto.\n",
        "* Cantidad comprada.\n",
        "\n",
        "<br>La factura debe mostrar:\n",
        "* Nombre de la tienda.\n",
        "* Número de factura (ejemplo: \"Factura de Venta No. 000\").\n",
        "* Datos del cliente (nombre e identificación).\n",
        "* Detalles del producto (nombre, precio unitario, cantidad comprada).\n",
        "* Resumen de la compra (base, IVA del 19% y valor total).\n",
        "\n",
        "<br>Nota: el valor total es el precio unitario por la cantidad comprada.\n",
        "\n",
        "```\n",
        "Program Venta_producto\n",
        "Start\n",
        "  Declare str nombre\n",
        "  Declare int identifiacion\n",
        "  Declare str nombre_producto\n",
        "  Declare float precio\n",
        "  Declare int cantidad\n",
        "  Declare float precio_mas\n",
        "  Declare float base\n",
        "  Declare float iva\n",
        "  Declare float valor_total\n",
        "\n",
        "  Display \"Ingrese el nombre del usuario\"\n",
        "  Input nombre\n",
        "\n",
        "  Display \"Ingrese la identificación del cliente\"\n",
        "  Input identificacion\n",
        "\n",
        "  Display \"Ingrese el nombre del producto\"\n",
        "  Input nombre_producto\n",
        "\n",
        "  Display \"Ingrese el precio unitario del producto a comprar\"\n",
        "\n",
        "  Display \"Ingrese la cantidad comprada del producto\"\n",
        "  Input cantidad\n",
        "\n",
        "  Set base = (precio*cantidad) / 1.19\n",
        "  Set iva = precio - base\n",
        "  Set valor_total =  base + iva\n",
        "\n",
        "  Display \"SDS (Supply, diagnostics and service)\"\n",
        "  \n",
        "  Display \"Factura de venta No. 001\"\n",
        "  \n",
        "  Display \"Datos del cliente:\", nombre, \"con identificación\", identificación\n",
        "\n",
        "  Dislay \"Detalles del producto:\", nombre_producto, \"Con un precio unitario de:\", precio, \"y\", cantidad, \"de\", nombre_producto\n",
        "\n",
        "  Display \"Su precio es:\", base\n",
        "  Display \"Con un iva de:\", iva\n",
        "  Display \"Su valor total es:\", total\n",
        "End\n",
        "```"
      ],
      "metadata": {
        "id": "ZDxkcoWG7GOX"
      }
    },
    {
      "cell_type": "code",
      "source": [
        "#Pedir variables al usuario\n",
        "nombre = input(\"Ingrese el nombre del usuario: \") #Nombre del ususario\n",
        "identifiacion = int(input(\"Ingrese la identificación del cliente: \")) #ID del usuario\n",
        "nombre_producto = input(\"Ingrese el nombre del producto: \") #Nombre del producto\n",
        "precio = float(input(\"Ingrese el precio unitario del producto a comprar: \")) #Precio del producto\n",
        "cantidad = int(input(\"Ingrese la cantidad comprada del producto: \")) #Cantidad comprada del producto\n",
        "\n",
        "#Operaciones con las variables\n",
        "base = (precio*cantidad) / 1.19 # Precio sin el iva\n",
        "iva = precio - base #Iva del producto\n",
        "valor_total =  base + iva #Valor total de la compra\n",
        "\n",
        "#Factura a mostrar\n",
        "print(\"SDS (Supply, diagnostics and service)\") #Nombre de la empresa\n",
        "print(\"Factura de venta No. 001\") #Número de la factura\n",
        "print(\"Datos del cliente:\", nombre, \"con identificación\", identifiacion) #Mostrar a los datos del cliente\n",
        "print(\"Detalles del producto\", nombre_producto, \"Con un precio unitario de:\", precio, \"y\", cantidad, \"de\", nombre_producto) #Mostrar los detalles del producto\n",
        "print(\"Su precio es:\", base) #Mostrar la base\n",
        "print(\"Con un iva de:\", iva) #Mostrar el iva del producto\n",
        "print(\"Su valor total es:\", valor_total) #Mostrar el valor total (base + iva)"
      ],
      "metadata": {
        "id": "PozW3IjHAe2O",
        "outputId": "c8f3b927-3dda-4365-e49d-ab3d8d6648cc",
        "colab": {
          "base_uri": "https://localhost:8080/"
        }
      },
      "execution_count": null,
      "outputs": [
        {
          "output_type": "stream",
          "name": "stdout",
          "text": [
            "Ingrese su nombre del usuario: Sebastián Llorente Funieles\n",
            "Ingrese la identificación del cliente: 1062435679\n",
            "Ingrese el nombre del producto: computador\n",
            "Ingrese el precio unitario del producto a comprar: 1000000\n",
            "Ingrese la cantidad comprada del producto: 1\n",
            "SDS (Supply, diagnostics and service)\n",
            "Factura de venta No. 001\n",
            "Datos del cliente: Sebastián Llorente Funieles con identificación 1062435679\n",
            "Detalles del producto computador Con un precio unitario de: 1000000.0 y 1 de computador\n",
            "Su precio es: 840336.1344537815\n",
            "Con un iva de: 159663.86554621847\n",
            "Su valor total es: 1000000.0\n"
          ]
        }
      ]
    },
    {
      "cell_type": "markdown",
      "source": [
        "#Calcular utilidad\n",
        "<br>Diseñar un programa que calcule la utilidad de la venta de un producto en términos porcentuales. El programa debe solicitar al usuario:\n",
        "* Precio de compra del producto.\n",
        "* Precio de venta del producto.\n",
        "\n",
        "<br>El programa debe mostrar:\n",
        "* Margen de operación y administrativo (15% del precio de venta).\n",
        "* Costo del producto (precio de venta + margen de operación y administrativo).\n",
        "* Utilidad absoluta (diferencia entre el precio de venta y el costo del producto).\n",
        "* Utilidad porcentual.\n",
        "\n",
        "```\n",
        "Program calcular_utilidad\n",
        "Start\n",
        "  Declare float precio_compra\n",
        "  Declare float precio_venta\n",
        "  Declare float margen_operacion\n",
        "  Declare float precio_producto\n",
        "  Declare float utilidad_abs\n",
        "  Declare float utilidad_por\n",
        "\n",
        "  Display \"Ingrese el precio en el cual se compró el producto\"\n",
        "  Input precio_compra\n",
        "\n",
        "  Display \"Ingrese el precio en el que se vende el producto\"\n",
        "  Input precio_venta\n",
        "\n",
        "  Set margen_operacion = precio_venta * 0.15\n",
        "  Set costo_producto = precio_compra + margen_operacion\n",
        "  Set utilidad_abs = costo_producto - precio_venta\n",
        "  Set utilidad_por = (utilidad_abs/precio_venta) * 100\n",
        "\n",
        "  Display \"El margen de operación es:\", margen_operacion\n",
        "  Display \"El costo del producto es:\", costo_producto\n",
        "  Display \"La utilidad absoluta es:\", utilidad_abs\n",
        "  Display \"La utilidad porcentual es:\", utilidad_por\n",
        "End\n",
        "```"
      ],
      "metadata": {
        "id": "IGgglBuDzwB8"
      }
    },
    {
      "cell_type": "code",
      "source": [
        "precio_compra = float(input(\"Ingrese el precio en el cual se compró el producto: \")) #Precio de compra del producto\n",
        "precio_venta = float(input(\"Ingrese el precio en el que se vende el producto: \")) #Precio de venta del producto\n",
        "\n",
        "margen_operacion = precio_venta * 0.15 #Calculo del margen de operación\n",
        "costo_producto = precio_compra + margen_operacion #Calculo del costo del producto\n",
        "utilidad_abs = precio_venta - costo_producto #Calculo de la utilidad absoluta\n",
        "utilidad_por = (utilidad_abs/precio_venta) * 100 #Calculo de la utilidad porcentual\n",
        "\n",
        "print(\"El margen de operación es:\", margen_operacion) #Mostrar el margen de operación\n",
        "print(\"El costo del producto es:\", costo_producto) #Mostrar el costo del producto\n",
        "print(\"La utilidad absoluta es:\", utilidad_abs) #Mostrar la utilidad absoluta\n",
        "print(\"La utilidad porcentual es:\", utilidad_por) #Mostrar la utilidad porcentual"
      ],
      "metadata": {
        "id": "rYZ38xQ51aZm",
        "outputId": "e0caa2d2-006f-4d3c-ad7e-dbf2cfd2de5e",
        "colab": {
          "base_uri": "https://localhost:8080/"
        }
      },
      "execution_count": 6,
      "outputs": [
        {
          "output_type": "stream",
          "name": "stdout",
          "text": [
            "Ingrese el precio en el cual se compró el producto: 1000\n",
            "Ingrese el precio en el que se vende el producto: 2000\n",
            "El margen de operación es: 300.0\n",
            "El costo del producto es: 1300.0\n",
            "La utilidad absoluta es: 700.0\n",
            "La utilidad porcentual es: 35.0\n"
          ]
        }
      ]
    },
    {
      "cell_type": "markdown",
      "source": [
        "#Precio Promedio\n",
        "Diseñar un programa que calcule el precio promedio de los tres productos más vendidos en la tienda a partir del nombre y precio de cada uno de los tres productos.\n",
        "\n",
        "```\n",
        "Program Precio_promedio\n",
        "Start\n",
        "  Declare str producto_1\n",
        "  Declare float precio_1\n",
        "  Declare str producto_2\n",
        "  Declare float precio_2\n",
        "  Declare str producto_3\n",
        "  Declare float precio_3\n",
        "  Declare float promedio\n",
        "\n",
        "  Display \"Ingresa el nombre del primer producto\"\n",
        "  Input producto_1\n",
        "\n",
        "  Display \"Ingrese el precio del primer producto\"\n",
        "  Input precio_1\n",
        "\n",
        "  Display \"Ingresa el nombre del segundo producto\"\n",
        "  Input producto_3\n",
        "\n",
        "  Display \"Ingrese el precio del segundo producto\"\n",
        "  Input producto_2\n",
        "\n",
        "  Display \"Ingrese el nombre del tercer producto\"\n",
        "  Input producto_3\n",
        "\n",
        "  Display \"Ingrese el precio del tercer producto\"\n",
        "  Input precio_3\n",
        "\n",
        "  Set promedio = (precio_1 + precio_2 + precio_3) / 3\n",
        "\n",
        "  Display \"El promedio con\", producto_1, producto_2, producto_3, \"es:\", promedio\n",
        "End\n",
        "```\n",
        ""
      ],
      "metadata": {
        "id": "dffDiWUDUZ8p"
      }
    },
    {
      "cell_type": "code",
      "source": [
        "producto_1 = input(\"Ingresa el nombre del primer producto: \") #Nombre del primer producto\n",
        "precio_1 = float(input(\"Ingrese el precio del primer producto: \")) #Precio del primer producto\n",
        "producto_2 = input(\"Ingresa el nombre del segundo producto: \") #Nombre del segundo producto\n",
        "precio_2 = float(input(\"Ingrese el precio del segundo producto: \")) #Precio del segundo\n",
        "producto_3 = input(\"Ingrese el nombre del tercer producto: \") #Nombre del tercer producto\n",
        "precio_3 = float(input(\"Ingrese el precio del tercer producto: \")) #Precio del tercer producto\n",
        "\n",
        "promedio = (precio_1 + precio_2 + precio_3) / 3 #Calculo del promedio\n",
        "\n",
        "print(\"El promedio con un(a)\", producto_1,\", un(a)\", producto_2,\", un(a)\", producto_3, \"es:\", promedio) #Mostrar el promedio"
      ],
      "metadata": {
        "id": "cyy7HLrccsvv"
      },
      "execution_count": null,
      "outputs": []
    }
  ]
}