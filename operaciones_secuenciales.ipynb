{
  "nbformat": 4,
  "nbformat_minor": 0,
  "metadata": {
    "colab": {
      "provenance": [],
      "authorship_tag": "ABX9TyMufPghbkWRYShPZg2ORf/O",
      "include_colab_link": true
    },
    "kernelspec": {
      "name": "python3",
      "display_name": "Python 3"
    },
    "language_info": {
      "name": "python"
    }
  },
  "cells": [
    {
      "cell_type": "markdown",
      "metadata": {
        "id": "view-in-github",
        "colab_type": "text"
      },
      "source": [
        "<a href=\"https://colab.research.google.com/github/Seb4s11/SDS/blob/main/operaciones_secuenciales.ipynb\" target=\"_parent\"><img src=\"https://colab.research.google.com/assets/colab-badge.svg\" alt=\"Open In Colab\"/></a>"
      ]
    },
    {
      "cell_type": "markdown",
      "source": [
        "# Operaciones secuenciales\n",
        "**Primer integrante:**\n",
        "<br> **Nombre:** Sebastián Llorente Funieles\n",
        "<br> **ID:** 000574916\n",
        "<br> **Email:** sebastian.llorente@upb.edu.co\n",
        "\n",
        "<br> **Segundo integrante:**\n",
        "<br> **Nombre:** Juan Sebastián Miranda Almanza\n",
        "<br> **ID:** 000548579\n",
        "<br> **Email:** juan.mirandaa@upb.edu.co\n",
        "\n",
        "<br> **Tercer integrante:**\n",
        "<br> **Nombre:** Sebastián Benítez Burgos\n",
        "<br> **ID:** 000545006\n",
        "<br> **Email:** sebastian.benitez@upb.edu.co\n",
        "\n",
        "<br> **Cuarto integrante:**\n",
        "<br> **Nombre:** Danna Montalvo Hernández.\n",
        "<br> **ID:** 000576375\n",
        "<br> **Email:** danna.montalvo@upb.edu.co\n"
      ],
      "metadata": {
        "id": "Gjh0XINR6woG"
      }
    },
    {
      "cell_type": "markdown",
      "source": [
        "#Venta de un Producto\n",
        "<br> Diseñar un programa que genere una factura de compra para un producto. El programa debe solicitar\n",
        "al usuario:\n",
        "* Nombre del cliente.\n",
        "* Identificación del cliente.\n",
        "* Nombre del producto.\n",
        "* Precio unitario del producto.\n",
        "* Cantidad comprada.\n",
        "\n",
        "<br>La factura debe mostrar:\n",
        "* Nombre de la tienda.\n",
        "* Número de factura (ejemplo: \"Factura de Venta No. 000\").\n",
        "* Datos del cliente (nombre e identificación).\n",
        "* Detalles del producto (nombre, precio unitario, cantidad comprada).\n",
        "* Resumen de la compra (base, IVA del 19% y valor total).\n",
        "\n",
        "<br>Nota: el valor total es el precio unitario por la cantidad comprada.\n",
        "\n",
        "<br> **Algoritmo para generar una factura de compra para un producto**\n",
        "1. Iniciar\n",
        "2. Declarar las variables: nombre del usuario, identificación del usuario, nombre del producto, precio unitario, precio por la cantidad, cantidad del producto, base del producto, IVA del producto, el valor total\n",
        "3. Solicitar al usuario el nombre\n",
        "4. Solicitar al usuario la identificación\n",
        "5. Solicitar al usuario el nombre del producto\n",
        "6. Solicitar al usuario el precio unitario\n",
        "7. Solicitar al usuario la cantidad del producto\n",
        "8. Calcular cuanto lleva el cliente de ese producto: precio * cantidad\n",
        "9. Calcular la base: base = (precio unitario * cantidad) / 1.19\n",
        "10. Calcular el IVA del producto: IVA = precio - base\n",
        "11. Calcular el valor total= base + IVA\n",
        "12. Mostrar el nombre de la empresa.\n",
        "13. Mostrar los detalles del producto.\n",
        "14. Mostrar el resultado de la base del producto.\n",
        "15. Mostrar el resultado del iva del producto.\n",
        "16. Mostrar el valor total de la compra.\n",
        "17. Finalizar\n",
        "\n",
        "```\n",
        "Program Venta_producto\n",
        "Start\n",
        "  Declare str nombre\n",
        "  Declare int identificacion\n",
        "  Declare str nombre_producto\n",
        "  Declare float precio\n",
        "  Declare int cantidad\n",
        "  Declare float precio_can\n",
        "  Declare float base\n",
        "  Declare float iva\n",
        "  Declare float valor_total\n",
        "\n",
        "  Display \"Ingrese el nombre del usuario\"\n",
        "  Input nombre\n",
        "\n",
        "  Display \"Ingrese la identificación del cliente\"\n",
        "  Input identificacion\n",
        "\n",
        "  Display \"Ingrese el nombre del producto\"\n",
        "  Input nombre_producto\n",
        "\n",
        "  Display \"Ingrese el precio unitario del producto a comprar\"\n",
        "  Input precio\n",
        "\n",
        "  Display \"Ingrese la cantidad comprada del producto\"\n",
        "  Input cantidad\n",
        "\n",
        "  Set precio_can = precio * cantidad\n",
        "  Set base = precio_can / 1.19\n",
        "  Set iva = precio_can - base\n",
        "  Set valor_total =  base + iva\n",
        "\n",
        "  Display \"SDS (Supply, diagnostics and service)\"\n",
        "  \n",
        "  Display \"Factura de venta No. 001\"\n",
        "  \n",
        "  Display \"Datos del cliente:\", nombre, \"con identificación\", identificacion\n",
        "\n",
        "  Dislay \"Detalles del producto:\", nombre_producto, \"Con un precio unitario de:\", precio, \"y\", cantidad, \"de\", nombre_producto\n",
        "\n",
        "  Display \"Su precio es:\", base\n",
        "  Display \"Con un iva de:\", iva\n",
        "  Display \"Su valor total es:\", total\n",
        "End\n",
        "```"
      ],
      "metadata": {
        "id": "ZDxkcoWG7GOX"
      }
    },
    {
      "cell_type": "code",
      "source": [
        "#Pedir las variables al usuario\n",
        "nombre = input(\"Ingrese el nombre del usuario: \") #Pedir el nombre del usuario\n",
        "identificacion = int(input(\"Ingrese la identificación del cliente: \")) #Pedir la identificación del usuario\n",
        "nombre_producto = input(\"Ingrese el nombre del producto: \") #Pedir el nombre del producto\n",
        "precio = float(input(\"Ingrese el precio unitario del producto a comprar: \")) #Pedir el precio unitario del producto\n",
        "cantidad = int(input(\"Ingrese la cantidad comprada del producto: \")) #Pedir la cantidad del\n",
        "\n",
        "#Operar con las variables\n",
        "precio_can = precio * cantidad #Calcular el precio total del producto\n",
        "base = precio_can / 1.19 #Calcular la base del producto\n",
        "iva = precio_can - base #Calcular el iva del producto\n",
        "valor_total =  base + iva #Calcular el valor total del producto\n",
        "\n",
        "#Mostrar los datos al usuario\n",
        "print(\"SDS (Supply, diagnostics and service)\") #Mostrar el nombre de la tienda\n",
        "print(\"Factura de venta No. 001\") #Mostrar el número de factura\n",
        "print(\"Datos del cliente:\", nombre, \"con identificación\", identificacion) #Mostrar los datos del cliente\n",
        "print(\"Detalles del producto:\", nombre_producto, \"Con un precio unitario de:\", precio, \"y\", cantidad, \"de\", nombre_producto) #Mostrar los detalles del producto\n",
        "print(\"Su precio es:\", base) #Mostrar la base del producto\n",
        "print(\"Con un iva de:\", iva) #Mostrar el iva del producto\n",
        "print(\"Su valor total es:\", valor_total) #Mostrar el valor total del producto"
      ],
      "metadata": {
        "id": "PozW3IjHAe2O",
        "outputId": "ab0afc00-06d0-4808-e0e6-b9145e66facf",
        "colab": {
          "base_uri": "https://localhost:8080/"
        }
      },
      "execution_count": null,
      "outputs": [
        {
          "output_type": "stream",
          "name": "stdout",
          "text": [
            "Ingrese el nombre del usuario: Sebastián\n",
            "Ingrese la identificación del cliente: 1062435679\n",
            "Ingrese el nombre del producto: Computador\n",
            "Ingrese el precio unitario del producto a comprar: 1000000\n",
            "Ingrese la cantidad comprada del producto: 2\n",
            "SDS (Supply, diagnostics and service)\n",
            "Factura de venta No. 001\n",
            "Datos del cliente: Sebastián con identificación 1062435679\n",
            "Detalles del producto: Computador Con un precio unitario de: 1000000.0 y 2 de Computador\n",
            "Su precio es: 1680672.268907563\n",
            "Con un iva de: 319327.73109243694\n",
            "Su valor total es: 2000000.0\n"
          ]
        }
      ]
    },
    {
      "cell_type": "markdown",
      "source": [
        "#Calcular utilidad\n",
        "<br>Diseñar un programa que calcule la utilidad de la venta de un producto en términos porcentuales. El programa debe solicitar al usuario:\n",
        "* Precio de compra del producto.\n",
        "* Precio de venta del producto.\n",
        "\n",
        "<br>El programa debe mostrar:\n",
        "* Margen de operación y administrativo (15% del precio de venta).\n",
        "* Costo del producto (precio de venta + margen de operación y administrativo).\n",
        "* Utilidad absoluta (diferencia entre el precio de venta y el costo del producto).\n",
        "* Utilidad porcentual.\n",
        "\n",
        "<br>**Algoritmo para calcular la utilidad**\n",
        "\n",
        "1. Iniciar.\n",
        "2. Declarar el precio de compra, precio de venta, margen de operación y administrativo, prcio del producto, utilidad absoluta y la utilidad porcentual.\n",
        "3. Pedir al usuario el precio de compra del producto.\n",
        "4. Pedir al usuario el precio de venta del producto.\n",
        "5. Calcular el margen de operación = precio de venta * 0,15.\n",
        "6. Calcular el costo de producto = precio de compra + margen de operacion y administrativo.\n",
        "7. Calcular la utilidad absoluta = costo del producto - precio de venta.\n",
        "8. Calcular la utilidad porcentual = (utilidad absoluta / precio de venta) * 100.\n",
        "9. Mostrar el resultado del margen de operacion.\n",
        "10. Mostrar el resultado del costo del producto.\n",
        "11. Mostrar el resultado de la utilidad absoluta.\n",
        "12. Mostrar el resultado de la utilidad porcentual.\n",
        "13. Finalizar.\n",
        "```\n",
        "Program calcular_utilidad\n",
        "Start\n",
        "  Declare float precio_compra\n",
        "  Declare float precio_venta\n",
        "  Declare float margen_operacion\n",
        "  Declare float precio_producto\n",
        "  Declare float utilidad_abs\n",
        "  Declare float utilidad_por\n",
        "\n",
        "  Display \"Ingrese el precio en el cual se compró el producto\"\n",
        "  Input precio_compra\n",
        "\n",
        "  Display \"Ingrese el precio en el que se vende el producto\"\n",
        "  Input precio_venta\n",
        "\n",
        "  Set margen_operacion = precio_venta * 0.15\n",
        "  Set costo_producto = precio_compra + margen_operacion\n",
        "  Set utilidad_abs = costo_producto - precio_venta\n",
        "  Set utilidad_por = (utilidad_abs/precio_venta) * 100\n",
        "\n",
        "  Display \"El margen de operación es:\", margen_operacion\n",
        "  Display \"El costo del producto es:\", costo_producto\n",
        "  Display \"La utilidad absoluta es:\", utilidad_abs\n",
        "  Display \"La utilidad porcentual es:\", utilidad_por\n",
        "End\n",
        "```"
      ],
      "metadata": {
        "id": "IGgglBuDzwB8"
      }
    },
    {
      "cell_type": "code",
      "source": [
        "#Pedir las variables al usuario\n",
        "precio_compra = float(input(\"Ingrese el precio en el cual se compró el producto: \")) #Precio de compra del producto\n",
        "precio_venta = float(input(\"Ingrese el precio en el que se vende el producto: \")) #Precio de venta del producto\n",
        "\n",
        "#Hacer las operaciones con las varibales\n",
        "margen_operacion = precio_venta * 0.15 #Calculo del margen de operación\n",
        "costo_producto = precio_compra + margen_operacion #Calculo del costo del producto\n",
        "utilidad_abs = precio_venta - costo_producto #Calculo de la utilidad absoluta\n",
        "utilidad_por = (utilidad_abs/precio_venta) * 100 #Calculo de la utilidad porcentual\n",
        "\n",
        "#Mostrar los datos al usuario\n",
        "print(\"El margen de operación es:\", margen_operacion) #Mostrar el margen de operación\n",
        "print(\"El costo del producto es:\", costo_producto) #Mostrar el costo del producto\n",
        "print(\"La utilidad absoluta es:\", utilidad_abs) #Mostrar la utilidad absoluta\n",
        "print(\"La utilidad porcentual es:\", utilidad_por) #Mostrar la utilidad porcentual"
      ],
      "metadata": {
        "id": "rYZ38xQ51aZm",
        "outputId": "e0caa2d2-006f-4d3c-ad7e-dbf2cfd2de5e",
        "colab": {
          "base_uri": "https://localhost:8080/"
        }
      },
      "execution_count": null,
      "outputs": [
        {
          "output_type": "stream",
          "name": "stdout",
          "text": [
            "Ingrese el precio en el cual se compró el producto: 1000\n",
            "Ingrese el precio en el que se vende el producto: 2000\n",
            "El margen de operación es: 300.0\n",
            "El costo del producto es: 1300.0\n",
            "La utilidad absoluta es: 700.0\n",
            "La utilidad porcentual es: 35.0\n"
          ]
        }
      ]
    },
    {
      "cell_type": "markdown",
      "source": [
        "#Precio Promedio\n",
        "Diseñar un programa que calcule el precio promedio de los tres productos más vendidos en la tienda a partir del nombre y precio de cada uno de los tres productos.\n",
        "\n",
        "<br> **Algoritmo para calcular el precio promedio de tres productos**\n",
        "1. Iniciar.\n",
        "2. Declarar el nombre del primer producto, precio del primer producto, nombre del segundo producto, precio del segundo producto, nombre del tercer producto, precio del tecer producto y el promedio.\n",
        "3. Solicitar al usuario el nombre del primer producto.\n",
        "4. Solicitar al usuario el precio del primer producto.\n",
        "5. Solicitar al usuario el nombre del segundo producto.\n",
        "6. Solicitar al usuario el precio del segundo producto.\n",
        "7. Solicitar al usuario el nombre del tercer producto.\n",
        "8. Solicitar al usuario el precio del tercer producto.\n",
        "9. Calcular el promedio = (precio del primer producto + precio del segundo producto + precio del tercer producto) / 3\n",
        "10. Mostrar el resultado del promedio.\n",
        "11. Finalizar.\n",
        "```\n",
        "Program Precio_promedio\n",
        "Start\n",
        "  Declare str producto_1\n",
        "  Declare float precio_1\n",
        "  Declare str producto_2\n",
        "  Declare float precio_2\n",
        "  Declare str producto_3\n",
        "  Declare float precio_3\n",
        "  Declare float promedio\n",
        "\n",
        "  Display \"Ingresa el nombre del primer producto\"\n",
        "  Input producto_1\n",
        "\n",
        "  Display \"Ingrese el precio del primer producto\"\n",
        "  Input precio_1\n",
        "\n",
        "  Display \"Ingresa el nombre del segundo producto\"\n",
        "  Input producto_2\n",
        "\n",
        "  Display \"Ingrese el precio del segundo producto\"\n",
        "  Input precio_2\n",
        "\n",
        "  Display \"Ingrese el nombre del tercer producto\"\n",
        "  Input producto_3\n",
        "\n",
        "  Display \"Ingrese el precio del tercer producto\"\n",
        "  Input precio_3\n",
        "\n",
        "  Set promedio = (precio_1 + precio_2 + precio_3) / 3\n",
        "\n",
        "  Display \"El promedio con un(a)\", producto_1,\", un(a)\", producto_2,\", un(a)\", producto_3, \"es:\", promedio\n",
        "End\n",
        "```\n"
      ],
      "metadata": {
        "id": "dffDiWUDUZ8p"
      }
    },
    {
      "cell_type": "code",
      "source": [
        "#Pedir al usario las variables\n",
        "producto_1 = input(\"Ingresa el nombre del primer producto: \") #Nombre del primer producto\n",
        "precio_1 = float(input(\"Ingrese el precio del primer producto: \")) #Precio del primer producto\n",
        "producto_2 = input(\"Ingresa el nombre del segundo producto: \") #Nombre del segundo producto\n",
        "precio_2 = float(input(\"Ingrese el precio del segundo producto: \")) #Precio del segundo\n",
        "producto_3 = input(\"Ingrese el nombre del tercer producto: \") #Nombre del tercer producto\n",
        "precio_3 = float(input(\"Ingrese el precio del tercer producto: \")) #Precio del tercer producto\n",
        "\n",
        "#Operar con las variables\n",
        "promedio = (precio_1 + precio_2 + precio_3) / 3 #Calculo del promedio\n",
        "\n",
        "#Mostrar al usuario\n",
        "print(\"El promedio con un(a)\", producto_1,\", un(a)\", producto_2,\", un(a)\", producto_3, \"es:\", promedio) #Mostrar el promedio"
      ],
      "metadata": {
        "id": "cyy7HLrccsvv",
        "outputId": "d1ae3d54-b0ef-48bd-bf4a-3d793c758792",
        "colab": {
          "base_uri": "https://localhost:8080/"
        }
      },
      "execution_count": null,
      "outputs": [
        {
          "output_type": "stream",
          "name": "stdout",
          "text": [
            "Ingresa el nombre del primer producto: Computador\n",
            "Ingrese el precio del primer producto: 1000000\n",
            "Ingresa el nombre del segundo producto: Gráfica\n",
            "Ingrese el precio del segundo producto: 700000\n",
            "Ingrese el nombre del tercer producto: Memoria\n",
            "Ingrese el precio del tercer producto: 500000\n",
            "El promedio con un(a) Computador , un(a) Gráfica , un(a) Memoria es: 733333.3333333334\n"
          ]
        }
      ]
    }
  ]
}