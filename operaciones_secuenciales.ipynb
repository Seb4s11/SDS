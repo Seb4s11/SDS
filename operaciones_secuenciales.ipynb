{
  "nbformat": 4,
  "nbformat_minor": 0,
  "metadata": {
    "colab": {
      "provenance": [],
      "authorship_tag": "ABX9TyNspDInj+ti51dPtnJ9R4Wp",
      "include_colab_link": true
    },
    "kernelspec": {
      "name": "python3",
      "display_name": "Python 3"
    },
    "language_info": {
      "name": "python"
    }
  },
  "cells": [
    {
      "cell_type": "markdown",
      "metadata": {
        "id": "view-in-github",
        "colab_type": "text"
      },
      "source": [
        "<a href=\"https://colab.research.google.com/github/Seb4s11/SDS/blob/main/operaciones_secuenciales.ipynb\" target=\"_parent\"><img src=\"https://colab.research.google.com/assets/colab-badge.svg\" alt=\"Open In Colab\"/></a>"
      ]
    },
    {
      "cell_type": "markdown",
      "source": [
        "# Operaciones secuenciales\n",
        "**Primer integrante:**\n",
        "<br> **Nombre:** Sebastián Llorente Funieles\n",
        "<br> **ID:** 000574916\n",
        "<br> **Email:** sebastian.llorente@upb.edu.co\n",
        "\n",
        "<br> **Segundo integrante:**\n",
        "<br> **Nombre:** Juan Sebastián Miranda Almanza\n",
        "<br> **ID:** 000548579\n",
        "<br> **Email:** juan.mirandaa@upb.edu.co\n",
        "\n",
        "<br> **Tercer integrante:**\n",
        "<br> **Nombre:** Sebastián Benítez Burgos\n",
        "<br> **ID:** 000545006\n",
        "<br> **Email:** sebastian.benitez@upb.edu.co\n",
        "\n",
        "<br> **Cuarto integrante:**\n",
        "<br> **Nombre:** Danna Montalvo Hernández.\n",
        "<br> **ID:** 000576375\n",
        "<br> **Email:** danna.montalvo@upb.edu.co\n"
      ],
      "metadata": {
        "id": "Gjh0XINR6woG"
      }
    },
    {
      "cell_type": "markdown",
      "source": [
        "#Venta de un Producto\n",
        "<br> Diseñar un programa que genere una factura de compra para un producto. El programa debe solicitar\n",
        "al usuario:\n",
        "* Nombre del cliente.\n",
        "* Identificación del cliente.\n",
        "* Nombre del producto.\n",
        "* Precio unitario del producto.\n",
        "* Cantidad comprada.\n",
        "\n",
        "<br>La factura debe mostrar:\n",
        "* Nombre de la tienda.\n",
        "* Número de factura (ejemplo: \"Factura de Venta No. 000\").\n",
        "* Datos del cliente (nombre e identificación).\n",
        "* Detalles del producto (nombre, precio unitario, cantidad comprada).\n",
        "* Resumen de la compra (base, IVA del 19% y valor total).\n",
        "\n",
        "<br>Nota: el valor total es el precio unitario por la cantidad comprada.\n",
        "\n",
        "```\n",
        "Start\n",
        "  Declare str nombre\n",
        "  Declare int identifiacion\n",
        "  Declare str nombre_producto\n",
        "  Declare float precio\n",
        "  Declare int cantidad\n",
        "  Declare float sin_iva\n",
        "  Declare float iva\n",
        "  Declare float total\n",
        "\n",
        "  Display \"Ingrese su nombre del usuario\"\n",
        "  Input nombre\n",
        "\n",
        "  Display \"Ingrese la identificación del cliente\"\n",
        "  Input identificacion\n",
        "\n",
        "  Display \"Ingrese el nombre del producto\"\n",
        "  Input nombre_producto\n",
        "\n",
        "  Display \"Ingrese el precio unitario del producto a comprar\"\n",
        "\n",
        "  Display \"Ingrese la cantidad comprada del producto\"\n",
        "  Input cantidad\n",
        "\n",
        "  precio_2 = precio * cantidad\n",
        "  sin_iva = precio_2 / 1.19\n",
        "  iva = precio_2 - sin_iva\n",
        "  total = sin_iva + iva\n",
        "\n",
        "  Display \"SDS (Supply, diagnostics and service)\"\n",
        "  \n",
        "  Display \"Factura de venta No. 001\"\n",
        "  \n",
        "  Display \"Datos del cliente:\", nombre, identificación\n",
        "\n",
        "  Dislay \"Detalles del producto\", nombre_producto, \"Con un precio unitario de:\", precio, \"y\", cantidad, \"de\", nombre_producto\n",
        "\n",
        "  Display \"Su precio es:\", sin_iva\n",
        "  Display \"Con un iva de:\", iva\n",
        "  Display \"Su valor total es:\", total\n",
        "End\n",
        "```"
      ],
      "metadata": {
        "id": "ZDxkcoWG7GOX"
      }
    },
    {
      "cell_type": "code",
      "source": [
        "nombre = input(\"Ingrese su nombre del usuario: \")\n",
        "identifiacion = input(\"Ingrese la identificación del cliente: \")\n",
        "nombre_producto = input(\"Ingrese el nombre del producto: \")\n",
        "precio = float(input(\"Ingrese el precio unitario del producto a comprar: \"))\n",
        "cantidad = int(input(\"Ingrese la cantidad comprada del producto: \"))\n",
        "precio_2 = precio * cantidad\n",
        "sin_iva = precio_2 / 1.19\n",
        "iva = precio_2 - sin_iva\n",
        "total = sin_iva + iva\n",
        "print(\"SDS (Supply, diagnostics and service)\")\n",
        "print(\"Factura de venta No. 001\")\n",
        "print(\"Datos del cliente:\", nombre, identifiacion)\n",
        "print(\"Detalles del producto\", nombre_producto, \"Con un precio unitario de:\", precio, \"y\", cantidad, \"de\", nombre_producto)\n",
        "print(\"Su precio es:\", sin_iva)\n",
        "print(\"Con un iva de:\", iva)\n",
        "print(\"Su valor total es:\", total)"
      ],
      "metadata": {
        "id": "PozW3IjHAe2O",
        "outputId": "0ee2e26c-a25d-4d57-d272-2a2cac6d6435",
        "colab": {
          "base_uri": "https://localhost:8080/"
        }
      },
      "execution_count": 4,
      "outputs": [
        {
          "output_type": "stream",
          "name": "stdout",
          "text": [
            "Ingrese su nombre del usuario: Sebastián\n",
            "Ingrese la identificación del cliente: 1062435679\n",
            "Ingrese el nombre del producto: computador\n",
            "Ingrese el precio unitario del producto a comprar: 1000000\n",
            "Ingrese la cantidad comprada del producto: 1\n",
            "SDS (Supply, diagnostics and service)\n",
            "Factura de venta No. 001\n",
            "Datos del cliente: Sebastián 1062435679\n",
            "Detalles del producto computador Con un precio unitario de: 1000000.0 y 1 de computador\n",
            "Su precio es: 840336.1344537815\n",
            "Con un iva de: 159663.86554621847\n",
            "Su valor total es: 1000000.0\n"
          ]
        }
      ]
    }
  ]
}