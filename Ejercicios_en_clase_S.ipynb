{
  "nbformat": 4,
  "nbformat_minor": 0,
  "metadata": {
    "colab": {
      "provenance": [],
      "authorship_tag": "ABX9TyOFM2cQKHDx52eXbhmSor7A",
      "include_colab_link": true
    },
    "kernelspec": {
      "name": "python3",
      "display_name": "Python 3"
    },
    "language_info": {
      "name": "python"
    }
  },
  "cells": [
    {
      "cell_type": "markdown",
      "metadata": {
        "id": "view-in-github",
        "colab_type": "text"
      },
      "source": [
        "<a href=\"https://colab.research.google.com/github/Seb4s11/SDS/blob/main/Ejercicios_en_clase_S.ipynb\" target=\"_parent\"><img src=\"https://colab.research.google.com/assets/colab-badge.svg\" alt=\"Open In Colab\"/></a>"
      ]
    },
    {
      "cell_type": "markdown",
      "source": [
        "Ejercicios Sebastián Benítez, Sebastián Llorente y Juan Sebastián Miranda"
      ],
      "metadata": {
        "id": "7PsblHqkg7bF"
      }
    },
    {
      "cell_type": "markdown",
      "source": [
        "**Ejercicio 1**"
      ],
      "metadata": {
        "id": "rLTOl3BAkNMQ"
      }
    },
    {
      "cell_type": "code",
      "source": [
        "#Perfil del usario\n",
        "print (\"User Profile\") #Texto que le aparece al usario\n",
        "print (\"Enter your name:\")\n",
        "name = input () #Primera variable\n",
        "print (\"Enter your age\")\n",
        "age = input () #Segunda variable\n",
        "print (\"Enter your place of origin\")\n",
        "place_of_origin = input () #Tercera variable\n",
        "print (\"Enter your favorite hobbie\")\n",
        "hobbie = input() #Cuarta variable\n",
        "print (\"Enter your occupation\")\n",
        "occupation = input() #Quinta Variable\n",
        "#Print que recopila toda la indormación\n",
        "print(\"The user's name is \" + name + \", is \" + age + \" years old, comes from \" + place_of_origin + \". The User's hobbie is \" + hobbie + \" and is a \" + occupation + \".\" )"
      ],
      "metadata": {
        "colab": {
          "base_uri": "https://localhost:8080/"
        },
        "id": "zfeeC-RUhDqc",
        "outputId": "4a29a76e-6afa-4b66-a36e-f72b540f3195"
      },
      "execution_count": null,
      "outputs": [
        {
          "output_type": "stream",
          "name": "stdout",
          "text": [
            "User Profile\n",
            "Enter your name:\n"
          ]
        }
      ]
    },
    {
      "cell_type": "markdown",
      "source": [
        "**Ejercicio 2**"
      ],
      "metadata": {
        "id": "yKNQ4hwHkPeZ"
      }
    },
    {
      "cell_type": "code",
      "source": [
        "import math\n",
        "\n",
        "print(\"Seleccione una figura:\")\n",
        "print(\"1. Ortoedro\")\n",
        "print(\"2. Cilindro\")\n",
        "print(\"3. Esfera\")\n",
        "\n",
        "opcion = input(\"Ingrese el número de la figura: \")\n",
        "\n",
        "if opcion == \"1\":\n",
        "    largo = float(input(\"Ingrese el largo: \"))\n",
        "    ancho = float(input(\"Ingrese el ancho: \"))\n",
        "    alto = float(input(\"Ingrese el alto: \"))\n",
        "\n",
        "    area = 2 * (largo * ancho + ancho * alto + largo * alto)\n",
        "    volumen = largo * ancho * alto\n",
        "\n",
        "elif opcion == \"2\":\n",
        "    radio = float(input(\"Ingrese el radio: \"))\n",
        "    altura = float(input(\"Ingrese la altura: \"))\n",
        "\n",
        "    area = 2 * math.pi * radio * (radio + altura)\n",
        "    volumen = math.pi * radio**2 * altura\n",
        "\n",
        "elif opcion == \"3\":\n",
        "    radio = float(input(\"Ingrese el radio: \"))\n",
        "\n",
        "    area = 4 * math.pi * radio**2\n",
        "    volumen = (4/3) * math.pi * radio**3\n",
        "\n",
        "else:\n",
        "    print(\"Opción no válida\")\n",
        "    area = volumen = None\n",
        "\n",
        "if area is not None and volumen is not None:\n",
        "    print(\"\\nÁrea:\", area)\n",
        "    print(\"Volumen:\", volumen)"
      ],
      "metadata": {
        "colab": {
          "base_uri": "https://localhost:8080/"
        },
        "id": "e7jWdPUikb6d",
        "outputId": "8c98ca34-69d2-47ae-9a0c-4bcfc2bc8438"
      },
      "execution_count": 9,
      "outputs": [
        {
          "output_type": "stream",
          "name": "stdout",
          "text": [
            "Seleccione una figura:\n",
            "1. Ortoedro\n",
            "2. Cilindro\n",
            "3. Esfera\n",
            "Ingrese el número de la figura: 1\n",
            "Ingrese el largo: 5\n",
            "Ingrese el ancho: 8\n",
            "Ingrese el alto: 7\n",
            "\n",
            "Área: 262.0\n",
            "Volumen: 280.0\n"
          ]
        }
      ]
    }
  ]
}